import psycopg2
import pandas as pd
import plotly.graph_objects as go
import plotly.express as plt
import requests
import json


mydb = psycopg2.connect(host="localhost",
                        user='postgres',
                        port="5432",
                        database="phonepe_data",
                        password="Danv2001")

cursor= mydb.cursor()

cursor.execute("SELECT * FROM aggregated_insurance")
mydb.commit()
table1= cursor.fetchall()

Aggregrated_insurance = pd.DataFrame(table1, columns=("States", "Years", "Quarter", 'Transaction_Type', 'Transaction_Count', "Transaction_Amount"))

mydb = psycopg2.connect(host="localhost",
                        user='postgres',
                        port="5432",
                        database="phonepe_data",
                        password="Danv2001")

cursor= mydb.cursor()

cursor.execute("SELECT * FROM aggregated_transaction")
mydb.commit()
table2= cursor.fetchall()

Aggregrated_transaction = pd.DataFrame(table2, columns=("States", "Years", "Quarter", 'Transaction_Type', 'Transaction_Count', "Transaction_Amount"))

mydb = psycopg2.connect(host="localhost",
                        user='postgres',
                        port="5432",
                        database="phonepe_data",
                        password="Danv2001")

cursor= mydb.cursor()

cursor.execute("SELECT * FROM aggregated_user")
mydb.commit()
table3= cursor.fetchall()

Aggregrated_user = pd.DataFrame(table3, columns=("States", "Years", "Quarter", 'Brands', 'Transaction_Count', "Percentage"))

mydb = psycopg2.connect(host="localhost",
                        user='postgres',
                        port="5432",
                        database="phonepe_data",
                        password="Danv2001")

cursor= mydb.cursor()

cursor.execute("SELECT * FROM map_insurance")
mydb.commit()
table4= cursor.fetchall()

Map_insurance = pd.DataFrame(table4, columns=("States", "Years", "Quarter", 'District_Name', 'Transaction_Count', "Transaction_Amount"))

mydb = psycopg2.connect(host="localhost",
                        user='postgres',
                        port="5432",
                        database="phonepe_data",
                        password="Danv2001")

cursor= mydb.cursor()

cursor.execute("SELECT * FROM map_transaction")
mydb.commit()
table5= cursor.fetchall()

Map_transaction = pd.DataFrame(table5, columns=("States", "Years", "Quarter", 'District_Name', 'Transaction_Count', "Transaction_Amount"))

mydb = psycopg2.connect(host="localhost",
                        user='postgres',
                        port="5432",
                        database="phonepe_data",
                        password="Danv2001")

cursor= mydb.cursor()

cursor.execute("SELECT * FROM map_user")
mydb.commit()
table6= cursor.fetchall()

Map_user = pd.DataFrame(table6, columns=("States", "Years", "Quarter", 'District_Name', 'Registered_Users', "App_Opens"))

mydb = psycopg2.connect(host="localhost",
                        user='postgres',
                        port="5432",
                        database="phonepe_data",
                        password="Danv2001")

cursor= mydb.cursor()

cursor.execute("SELECT * FROM top_insurance")
mydb.commit()
table7= cursor.fetchall()

Top_insurance = pd.DataFrame(table7, columns=("States", "Years", "Quarter", 'Pincodes', 'Transaction_Count', "Transaction_Amount"))

mydb = psycopg2.connect(host="localhost",
                        user='postgres',
                        port="5432",
                        database="phonepe_data",
                        password="Danv2001")

cursor= mydb.cursor()

cursor.execute("SELECT * FROM top_transaction")
mydb.commit()
table8= cursor.fetchall()

Top_transaction = pd.DataFrame(table8, columns=("States", "Years", "Quarter", 'Entity_Name', 'Transaction_Count', "Transaction_Amount"))

mydb = psycopg2.connect(host="localhost",
                        user='postgres',
                        port="5432",
                        database="phonepe_data",
                        password="Danv2001")

cursor= mydb.cursor()

cursor.execute("SELECT * FROM top_user")
mydb.commit()
table9= cursor.fetchall()

Top_user = pd.DataFrame(table9, columns=("States", "Years", "Quarter", 'Pincodes', 'Registered_Users'))

def top_chart_transaction_amount(table_name):
    mydb = psycopg2.connect(host="localhost",
                            user='postgres',
                            port="5432",
                            database="phonepe_data",
                            password="Danv2001")

    cursor= mydb.cursor()

    query_1= f'''SELECT states, SUM(transaction_amount) AS transaction_amount
                FROM {table_name}
                GROUP BY states
                ORDER BY transaction_amount DESC
                LIMIT 10;'''
                
    cursor.execute(query_1)
    table_1= cursor.fetchall()

    mydb.commit()

    df_1= pd.DataFrame(table_1, columns=("states", "transaction_amount"))

    fig_amount = plt.bar(df_1, x="states", y="transaction_amount", title="Transaction Amount Descending",
                        hover_name= "states", color_discrete_sequence=plt.colors.sequential.Aggrnyl, height=650, width=600)
    fig_amount.show()

    #plot_2
    query_2= f'''SELECT states, SUM(transaction_amount) AS transaction_amount
                FROM {table_name}
                GROUP BY states
                ORDER BY transaction_amount
                LIMIT 10;'''
                
    cursor.execute(query_2)
    table_2= cursor.fetchall()

    mydb.commit()

    df_2= pd.DataFrame(table_2, columns=("states", "transaction_amount"))

    fig_amount = plt.bar(df_2, x="states", y="transaction_amount", title="Transaction Amount Ascending",
                        hover_name= "states", color_discrete_sequence=plt.colors.sequential.Aggrnyl, height=650, width=600)
    fig_amount.show()



    #plot_3
    query_3= f'''SELECT states, AVG(transaction_amount) AS transaction_amount
                FROM {table_name}
                GROUP BY states
                ORDER BY transaction_amount;'''
                
    cursor.execute(query_3)
    table_3= cursor.fetchall()

    mydb.commit()

    df_3= pd.DataFrame(table_3, columns=("states", "transaction_amount"))

    fig_amount = plt.bar(df_3, y="states", x="transaction_amount", title="Transaction Amount Average", orientation='h',
                        hover_name= "states", color_discrete_sequence=plt.colors.sequential.Bluered_r, height=650, width=600)
    fig_amount.show()

    def top_chart_transaction_count(table_name):
    mydb = psycopg2.connect(host="localhost",
                            user='postgres',
                            port="5432",
                            database="phonepe_data",
                            password="Danv2001")

    cursor= mydb.cursor()

    query_1= f'''SELECT states, SUM(transaction_count) AS transaction_count
                FROM {table_name}
                GROUP BY states
                ORDER BY transaction_count DESC
                LIMIT 10;'''
                
    cursor.execute(query_1)
    table_1= cursor.fetchall()

    mydb.commit()

    df_1= pd.DataFrame(table_1, columns=("states", "transaction_count"))

    fig_amount = plt.bar(df_1, x="states", y="transaction_count", title="Transaction Count Descending",
                        hover_name= "states", color_discrete_sequence=plt.colors.sequential.Aggrnyl, height=650, width=600)
    fig_amount.show()

    #plot_2
    query_2= f'''SELECT states, SUM(transaction_count) AS transaction_count
                FROM {table_name}
                GROUP BY states
                ORDER BY transaction_count
                LIMIT 10;'''
                
    cursor.execute(query_2)
    table_2= cursor.fetchall()

    mydb.commit()

    df_2= pd.DataFrame(table_2, columns=("states", "transaction_count"))

    fig_amount = plt.bar(df_2, x="states", y="transaction_count", title="Transaction Count Ascending",
                        hover_name= "states", color_discrete_sequence=plt.colors.sequential.Aggrnyl, height=650, width=600)
    fig_amount.show()



    #plot_3
    query_3= f'''SELECT states, AVG(transaction_count) AS transaction_count
                FROM {table_name}
                GROUP BY states
                ORDER BY transaction_count;'''
                
    cursor.execute(query_3)
    table_3= cursor.fetchall()

    mydb.commit()

    df_3= pd.DataFrame(table_3, columns=("states", "transaction_count"))

    fig_amount = plt.bar(df_3, y="states", x="transaction_count", title="Transaction Count Average", orientation='h',
                        hover_name= "states", color_discrete_sequence=plt.colors.sequential.Bluered_r, height=800, width=1000)
    fig_amount.show()

    def top_chart_registered_users(table_name, state):
    mydb = psycopg2.connect(host="localhost",
                            user='postgres',
                            port="5432",
                            database="phonepe_data",
                            password="Danv2001")

    cursor= mydb.cursor()

    query_1= f'''SELECT district, SUM(registered_users) AS registered_users
                FROM {table_name}
                WHERE states= '{state}'
                GROUP BY district
                ORDER BY registered_users DESC
                LIMIT 10;'''
                
    cursor.execute(query_1)
    table_1= cursor.fetchall()

    mydb.commit()

    df_1= pd.DataFrame(table_1, columns=("district", "registered_users"))

    fig_amount = plt.bar(df_1, x="district", y="registered_users", title="Registered Users Descending",
                        hover_name= "district", color_discrete_sequence=plt.colors.sequential.Aggrnyl, height=650, width=600)
    fig_amount.show()

    #plot_2
    query_2= f'''SELECT district, SUM(registered_users) AS registered_users
                FROM {table_name}
                WHERE states= '{state}'
                GROUP BY district
                ORDER BY registered_users 
                LIMIT 10;'''
                
    cursor.execute(query_2)
    table_2= cursor.fetchall()

    mydb.commit()

    df_2= pd.DataFrame(table_2, columns=("district", "registered_users"))

    fig_amount = plt.bar(df_2, x="district", y="registered_users", title="Registered Users Ascending",
                        hover_name= "district", color_discrete_sequence=plt.colors.sequential.Aggrnyl, height=650, width=600)
    fig_amount.show()



    #plot_3
    query_3= f'''SELECT district, AVG(registered_users) AS registered_users
                FROM {table_name}
                WHERE states= '{state}'
                GROUP BY district
                ORDER BY registered_users;'''
                
    cursor.execute(query_3)
    table_3= cursor.fetchall()

    mydb.commit()

    df_3= pd.DataFrame(table_3, columns=("district", "registered_users"))

    fig_amount = plt.bar(df_3, y="district", x="registered_users", title="Registered Users Average", orientation='h',
                        hover_name= "district", color_discrete_sequence=plt.colors.sequential.Bluered_r, height=800, width=1000)
    fig_amount.show()

    def top_chart_app_opens(table_name, state):
    mydb = psycopg2.connect(host="localhost",
                            user='postgres',
                            port="5432",
                            database="phonepe_data",
                            password="Danv2001")

    cursor= mydb.cursor()

    query_1= f'''SELECT district, SUM(app_opens) AS app_opens
                FROM {table_name}
                WHERE states= '{state}'
                GROUP BY district
                ORDER BY app_opens DESC
                LIMIT 10;'''
                
    cursor.execute(query_1)
    table_1= cursor.fetchall()

    mydb.commit()

    df_1= pd.DataFrame(table_1, columns=("district", "app_opens"))

    fig_amount_1 = plt.bar(df_1, x="district", y="app_opens", title="App Opens Descending",
                        hover_name= "district", color_discrete_sequence=plt.colors.sequential.Aggrnyl, height=650, width=600)
    fig_amount_1.show()

    #plot_2
    query_2= f'''SELECT district, SUM(app_opens) AS app_opens
                FROM {table_name}
                WHERE states= '{state}'
                GROUP BY district
                ORDER BY app_opens
                LIMIT 10;'''
                
    cursor.execute(query_2)
    table_2= cursor.fetchall()

    mydb.commit()

    df_2= pd.DataFrame(table_2, columns=("district", "app_opens"))

    fig_amount_2 = plt.bar(df_2, x="district", y="app_opens", title="App Opens Ascending",
                        hover_name= "district", color_discrete_sequence=plt.colors.sequential.Aggrnyl, height=650, width=600)
    fig_amount_2.show()



    #plot_3
    query_3= f'''SELECT district, AVG(app_opens) AS app_opens
                FROM {table_name}
                WHERE states= '{state}'
                GROUP BY district
                ORDER BY app_opens;'''
                
    cursor.execute(query_3)
    table_3= cursor.fetchall()

    mydb.commit()

    df_3= pd.DataFrame(table_3, columns=("district", "app_opens"))

    fig_amount_3 = plt.bar(df_3, y="district", x="app_opens", title="App Opens Average", orientation='h',
                        hover_name= "district", color_discrete_sequence=plt.colors.sequential.Bluered_r, height=800, width=1000)
    fig_amount_3.show()

    def top_chart_registered_users_1(table_name):
    mydb = psycopg2.connect(host="localhost",
                            user='postgres',
                            port="5432",
                            database="phonepe_data",
                            password="Danv2001")

    cursor= mydb.cursor()

    query_1= f'''SELECT states, SUM(registered_users) AS registered_users
                FROM {table_name}
                GROUP BY states
                ORDER BY registered_users DESC
                LIMIT 10;'''
                
    cursor.execute(query_1)
    table_1= cursor.fetchall()

    mydb.commit()

    df_1= pd.DataFrame(table_1, columns=("states", "registered_users"))

    fig_amount = plt.bar(df_1, x="states", y="registered_users", title="Registered Users Descending",
                        hover_name= "states", color_discrete_sequence=plt.colors.sequential.Aggrnyl, height=650, width=600)
    fig_amount.show()

    #plot_2
    query_2= f'''SELECT states, SUM(registered_users) AS registered_users
                FROM {table_name}
                GROUP BY states
                ORDER BY registered_users DESC
                LIMIT 10;'''
                
    cursor.execute(query_2)
    table_2= cursor.fetchall()

    mydb.commit()

    df_2= pd.DataFrame(table_2, columns=("states", "registered_users"))

    fig_amount_2 = plt.bar(df_2, x="states", y="registered_users", title="Registered Users Ascending",
                        hover_name= "states", color_discrete_sequence=plt.colors.sequential.Aggrnyl, height=650, width=600)
    fig_amount_2.show()



    #plot_3
    query_3= f'''SELECT states, AVG(registered_users) AS registered_users
                FROM {table_name}
                GROUP BY states
                ORDER BY registered_users;'''
                
    cursor.execute(query_3)
    table_3= cursor.fetchall()

    mydb.commit()

    df_3= pd.DataFrame(table_3, columns=("states", "registered_users"))

    fig_amount_3 = plt.bar(df_3, y="states", x="registered_users", title="Registered Users Average", orientation='h',
                        hover_name= "states", color_discrete_sequence=plt.colors.sequential.Bluered_r, height=800, width=1000)
    fig_amount_3.show()

    def Transaction_Amount_Count_Y(df, year):
    A1 =df[df["Years"] == year]
    A1.reset_index(drop= True, inplace= True)

    A11 = A1.groupby("States")[["Transaction_Count","Transaction_Amount"]].sum()
    A11.reset_index(inplace= True)

    fig_amount = plt.bar(A11, x="States", y="Transaction_Amount", title=f"{year} Transaction Amount", color_discrete_sequence=plt.colors.sequential.Aggrnyl, height=650, width=600)
    fig_amount.show()

    fig_count = plt.bar(A11, x="States", y="Transaction_Count", title=f"{year} Transaction Count", color_discrete_sequence=plt.colors.sequential.Bluered_r, height=650, width=600)
    fig_count.show()
    
    url= "https://gist.githubusercontent.com/jbrobst/56c13bbbf9d97d187fea01ca62ea5112/raw/e388c4cae20aa53cb5090210a42ebb9b765c0a36/india_states.geojson"
    response = requests.get(url)
    d1 = json.loads(response.content)
    state_names= []
    for feature in d1["features"]:
        state_names.append(feature["properties"]["ST_NM"])
        
    state_names.sort()

    india_fig_1 = plt.choropleth(A11, geojson=d1, locations= "States", featureidkey="properties.ST_NM",
                                 color="Transaction_Amount", color_continuous_scale="Rainbow",
                                 range_color= (A11["Transaction_Amount"].min(), A11["Transaction_Amount"].max()),
                                 hover_name="States", title= f"{year} Transaction Amount", fitbounds= "locations",
                                 height=600, width=600)
    india_fig_1.update_geos(visible= False)
    
    india_fig_1.show()
    
    
    india_fig_2 = plt.choropleth(A11, geojson=d1, locations= "States", featureidkey="properties.ST_NM",
                                 color="Transaction_Count", color_continuous_scale="Rainbow",
                                 range_color= (A11["Transaction_Count"].min(), A11["Transaction_Count"].max()),
                                 hover_name="States", title= f"{year} Transaction Count", fitbounds= "locations",
                                 height=600, width=600)
    india_fig_2.update_geos(visible= False)
    
    india_fig_2.show()
    
    return A1

  def Transaction_Amount_Count_Y_Q(df, quarter):
  A1 =df[df["Quarter"] == quarter]
  A1.reset_index(drop= True, inplace= True)

  A11 = A1.groupby("States")[["Transaction_Count","Transaction_Amount"]].sum()
  A11.reset_index(inplace= True)

  fig_amount = plt.bar(A11, x="States", y="Transaction_Amount", title=f"{A1['Years'].unique()} YEAR {quarter} QUARTER Transaction Amount", color_discrete_sequence=plt.colors.sequential.Aggrnyl, height=650, width=600)
  fig_amount.show()

  fig_count = plt.bar(A11, x="States", y="Transaction_Count", title=f"{A1['Years'].unique()} YEAR {quarter} QUARTER Transaction Count", color_discrete_sequence=plt.colors.sequential.Bluered_r, height=650, width=600)
  fig_count.show()
  
  url= "https://gist.githubusercontent.com/jbrobst/56c13bbbf9d97d187fea01ca62ea5112/raw/e388c4cae20aa53cb5090210a42ebb9b765c0a36/india_states.geojson"
  response = requests.get(url)
  d1 = json.loads(response.content)
  state_names= []
  for feature in d1["features"]:
      state_names.append(feature["properties"]["ST_NM"])
      
  state_names.sort()

  india_fig_1 = plt.choropleth(A11, geojson=d1, locations= "States", featureidkey="properties.ST_NM",
                               color="Transaction_Amount", color_continuous_scale="Rainbow",
                               range_color= (A11["Transaction_Amount"].min(), A11["Transaction_Amount"].max()),
                               hover_name="States", title= f"{A1['Years'].unique()} YEAR {quarter} QUARTER Transaction Amount", fitbounds= "locations",
                               height=600, width=600)
  india_fig_1.update_geos(visible= False)
  
  india_fig_1.show()
  
  
  india_fig_2 = plt.choropleth(A11, geojson=d1, locations= "States", featureidkey="properties.ST_NM",
                               color="Transaction_Count", color_continuous_scale="Rainbow",
                               range_color= (A11["Transaction_Count"].min(), A11["Transaction_Count"].max()),
                               hover_name="States", title= f"{A1['Years'].unique()} YEAR {quarter} QUARTER Transaction Count", fitbounds= "locations",
                               height=600, width=600)
  india_fig_2.update_geos(visible= False)
  
  india_fig_2.show()
  
  return A1

def Aggregrated_Tran_Transaction_Type(df, state):

  A1 =df[df["States"] == state]
  A1.reset_index(drop= True, inplace= True)

  A11 = A1.groupby("Transaction_Type")[["Transaction_Count","Transaction_Amount"]].sum()
  A11.reset_index(inplace= True)

  fig_pie_1= plt.pie(data_frame = A11, names="Transaction_Type", values= "Transaction_Amount", 
                  width=600, title=f"{state.upper()} TRANSACTION AMOUNT", hole=0.5)

  fig_pie_1.show()

  fig_pie_2= plt.pie(data_frame = A11, names="Transaction_Type", values= "Transaction_Count", 
                  width=600, title=f"{state.upper()} TRANSACTION AMOUNT", hole=0.5)

  fig_pie_2.show()

def Aggregated_User_Plot_1(df, year):
    aguy = df[df["Years"]==year]
    aguy.reset_index(drop=True, inplace=True)

    aguy_g = pd.DataFrame(aguy.groupby("Brands")["Transaction_Count"].sum())
    aguy_g.reset_index(inplace=True)


    fig_bar_1 = plt.bar(aguy_g, x="Brands", y="Transaction_Count", title=f"{year}Brands and Transaction Count",
                        width = 900, color_discrete_sequence= plt.colors.sequential.haline)
    fig_bar_1.show()
    
    return aguy

def Aggregated_User_Plot_2(df, quarter):
    aguyq = df[df["Quarter"]== quarter]
    aguyq.reset_index(drop=True, inplace=True)

    aguyqg = pd.DataFrame(aguyq.groupby("Brands")["Transaction_Count"].sum())
    aguyqg.reset_index(inplace=True)

    fig_bar_1 = plt.bar(aguyqg, x="Brands", y="Transaction_Count", title=f"{quarter} Quarter Brands and Transaction Count",
                            width = 900, color_discrete_sequence= plt.colors.sequential.haline, hover_name="Brands")
    fig_bar_1.show()
    
    return aguyq

  def Aggregrated_User_Plot_3(df, state):
    auyqs = df[df["States"]==state] 
    auyqs.reset_index(drop=True, inplace=True)

    fig_line_1= plt.line(auyqs, x="Brands", y="Transaction_Count", hover_data="Percentage",
                        title="Brands, Transaction Count and Percentage", color_discrete_sequence=plt.colors.sequential.algae_r,
                        width=1000, markers=True)
    fig_line_1.show()
    
    return auyqs

    
def map_insurance_district(df, state):

    A1 =df[df["States"] == state]
    A1.reset_index(drop= True, inplace= True)

    A11 = A1.groupby("District_Name")[["Transaction_Count","Transaction_Amount"]].sum()
    A11.reset_index(inplace= True)

    fig_bar_1= plt.bar(A11, x="Transaction_Amount", y= "District_Name", 
                    orientation="h", title=f"{state} District And Transaction Amount", color_discrete_sequence=plt.colors.sequential.Darkmint_r)

    fig_bar_1.show()

    fig_bar_2= plt.bar(A11, x="Transaction_Count", y= "District_Name", 
                    orientation="h", title=f"{state} District And Transaction Count", color_discrete_sequence=plt.colors.sequential.Blackbody_r)

    fig_bar_2.show()

  def map_user_plot_1(df, year):
    muy = df[df["Years"]==year]
    muy.reset_index(drop=True, inplace=True)

    muy_g = muy.groupby("States")[["Registered_Users", "App_Opens"]].sum()
    muy_g.reset_index(inplace=True)

    fig_line_1= plt.line(muy_g, x="States", y=["Registered_Users", "App_Opens"],
                        title=f"{year} Registered User and App Open",
                        width=1000, height=800, markers=True)
    fig_line_1.show()

    return muy

  def map_user_plot_2(df, quarter):
    muyq = df[df["Quarter"]==quarter]
    muyq.reset_index(drop=True, inplace=True)

    muyq_g = muyq.groupby("States")[["Registered_Users", "App_Opens"]].sum()
    muyq_g.reset_index(inplace=True)

    fig_line_2= plt.line(muyq_g, x="States", y=["Registered_Users", "App_Opens"],
                        title=f"{df['Years'].min()} Year {quarter} Quarter Registered User and App Open",
                        width=1000, height=800, markers=True)
    fig_line_2.show()

    return muyq

  def map_user_plot_3(df, states):
    muyqs =  df[df["States"]== states]
    muyqs.reset_index(drop=True, inplace=True)

    fig_map_user_bar_1 = plt.bar(muyqs, x= "Registered_Users", y= "District_Name", orientation= "h",
                                title= "Registered Users", height= 800, color_discrete_sequence= plt.colors.sequential.Reds_r)
    fig_map_user_bar_1.show()

    fig_map_user_bar_2 = plt.bar(muyqs, x= "App_Opens", y= "District_Name", orientation= "h",
                                title= "App Opens", height= 800, color_discrete_sequence= plt.colors.sequential.Rainbow_r)
    fig_map_user_bar_2.show()

  def top_insurance_plot_1(df, state):
    tiy = df[df["States"]== state]
    tiy.reset_index(drop=True, inplace=True)

    tiy_g = tiy.groupby("Pincodes")[["Transaction_Count", "Transaction_Amount"]].sum()
    tiy_g.reset_index(inplace=True)
    fig_top_insurance_bar_1 = plt.bar(tiy, x= "Quarter", y= "Transaction_Amount", hover_data= "Pincodes",
                                title= "Transaction Amount", height= 650, width=600, color_discrete_sequence= plt.colors.sequential.Reds_r)
    fig_top_insurance_bar_1.show()
    
    fig_top_insurance_bar_2 = plt.bar(tiy, x= "Quarter", y= "Transaction_Count", hover_data= "Pincodes",
                                    title= "Transaction Count", height= 650, width=600, color_discrete_sequence= plt.colors.sequential.algae_r)
    fig_top_insurance_bar_2.show()

  def top_transaction_plot_1(df, state):
    tty = df[df["States"]== state]
    tty.reset_index(drop=True, inplace=True)

    tty_g = tty.groupby("Entity_Name")[["Transaction_Count", "Transaction_Amount"]].sum()
    tty_g.reset_index(inplace=True)
    fig_top_insurance_bar_1 = plt.bar(tty, x= "Quarter", y= "Transaction_Amount", hover_data= "Entity_Name",
                                title= "Transaction Amount", height= 650, width=600, color_discrete_sequence= plt.colors.sequential.Reds_r)
    fig_top_insurance_bar_1.show()
    
    fig_top_insurance_bar_2 = plt.bar(tty, x= "Quarter", y= "Transaction_Count", hover_data= "Entity_Name",
                                    title= "Transaction Count", height= 650, width=600, color_discrete_sequence= plt.colors.sequential.algae_r)
    fig_top_insurance_bar_2.show()

  def top_user_plot_1(df, years):
    tuy = df[df["Years"]==years]
    tuy.reset_index(drop=True, inplace=True)

    tuy_g = pd.DataFrame(tuy.groupby(["States", "Quarter"])["Registered_Users"].sum())
    tuy_g.reset_index(inplace=True)

    fig_top_user_plot_1 = plt.bar(tuy_g, x="States", y="Registered_Users", hover_name="States", color="Quarter", width=1000, height=800,
                                color_discrete_sequence=plt.colors.sequential.Plasma_r, title=f"{years} Registered Users Top User")
    fig_top_user_plot_1.show()
    
    return tuy

def top_user_plot_2(df,state):
    tuys = df[df["States"]== state]
    tuys.reset_index(drop=True, inplace=True)

    fig_top_user_plot_2 = plt.bar(tuys, x="Quarter", y="Registered_Users", title=f"{state} Registered Users, Pincodes, Quarter",
                                width= 1000, height=800, color="Registered_Users", hover_data="Pincodes", color_continuous_scale= plt.colors.sequential.Mint_r)

    fig_top_user_plot_2.show()
